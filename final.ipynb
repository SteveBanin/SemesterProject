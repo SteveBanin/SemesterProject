{
 "cells": [
  {
   "cell_type": "code",
   "execution_count": null,
   "metadata": {},
   "outputs": [],
   "source": [
    "import tensorflow as tf\n",
    "import numpy as np\n",
    "import glob, os\n",
    "import matplotlib.pyplot as plt"
   ]
  },
  {
   "cell_type": "code",
   "execution_count": null,
   "metadata": {},
   "outputs": [],
   "source": [
    "class JumpingWindow:\n",
    "    \n",
    "    \n",
    "    def __init__(self, size, overlap, strict_size=True):\n",
    "        if (\n",
    "            not isinstance(size, int) or\n",
    "            not isinstance(overlap, int) or\n",
    "            not isinstance(strict_size, bool) or\n",
    "            overlap >= size\n",
    "        ):\n",
    "            title = \"ERROR: Wrong values in JumpingWindow constructor.\"\n",
    "            description = \"Expecting: size(int), overlap(int), strict_size(bool), AND overlap < size\"\n",
    "            provided = \"size({}), overlap({}), strict_size({}), overlap < size? {}\".format(\n",
    "                    type(size),\n",
    "                    type(overlap),\n",
    "                    type(strict_size),\n",
    "                    overlap < size\n",
    "                )\n",
    "            raise Exception(title + \"\\n\" + description + \"\\n\" + provided)\n",
    "        self.windows = []\n",
    "        self.entries = []\n",
    "        self.size = size\n",
    "        self.overlap = overlap\n",
    "        self.strict_size = strict_size\n",
    "        self.transformed = False\n",
    "\n",
    "\n",
    "    def add(self, element):\n",
    "        if self.transformed:\n",
    "            raise Exception(\"Cannot add the elements to the window, once it has been transformed!\")\n",
    "        self.entries.append(element)\n",
    "\n",
    "\n",
    "    def transform_entries_to_windows(self):\n",
    "        for i in range(0, len(self.entries), self.size-self.overlap):\n",
    "            window = self.entries[i:i+self.size]\n",
    "            if (self.strict_size and (len(window) != self.size)):\n",
    "                continue\n",
    "            self.windows.append(window)\n",
    "        self.transformed = True\n",
    "    \n",
    "    \n",
    "    def getWindow(self, window_number):\n",
    "        return windows[window_number]\n",
    "    \n",
    "    \n",
    "    def getAllWindows(self):\n",
    "        return self.windows[:]\n",
    "\n",
    "\n",
    "    def __str__(self):\n",
    "        result = \"\\n---------- Jumping Window ----------\\n\"\n",
    "        for i in range(len(self.windows)):\n",
    "            result = result + \"Window {}:\\t{}\\n\".format(i, self.windows[i])\n",
    "        result = result + \"------------------------------------\\n\"\n",
    "        return result\n",
    "    \n",
    "        "
   ]
  },
  {
   "cell_type": "code",
   "execution_count": null,
   "metadata": {},
   "outputs": [],
   "source": [
    "def shapeMatrix(one_dimensional_list, num_rows, num_cols):\n",
    "    if (num_rows * num_cols != len(one_dimensional_list)):\n",
    "        # not possible to transform the values\n",
    "        return None\n",
    "    else:\n",
    "        matrix = []\n",
    "        for i in range(num_rows):\n",
    "            row = []\n",
    "            for j in range(num_cols):\n",
    "                row.append(j)\n",
    "            matrix.append(row)\n",
    "        return matrix\n"
   ]
  },
  {
   "cell_type": "code",
   "execution_count": null,
   "metadata": {},
   "outputs": [],
   "source": [
    "def getValuesFromFile(filename):\n",
    "    values = []\n",
    "\n",
    "    f = open(\"merged_test_0026.csv\", \"r\")\n",
    "    line = f.readline() # col titles\n",
    "    line = f.readline() # first row\n",
    "    while line:\n",
    "        values.append(np.float32(line.split(\",\")[0]))\n",
    "        line = f.readline()\n",
    "    f.close()\n",
    "    \n",
    "    return values"
   ]
  },
  {
   "cell_type": "code",
   "execution_count": null,
   "metadata": {},
   "outputs": [],
   "source": [
    "# break down into overlapping jumping windows\n",
    "def createJumpingWindows(values):\n",
    "    jws = JumpingWindow(30, 5)\n",
    "    for value in values:\n",
    "        jws.add(value)\n",
    "    jws.transform_entries_to_windows()\n",
    "    return jws"
   ]
  },
  {
   "cell_type": "code",
   "execution_count": null,
   "metadata": {},
   "outputs": [],
   "source": [
    "#here I create default graph \n",
    "tf.reset_default_graph()"
   ]
  },
  {
   "cell_type": "code",
   "execution_count": null,
   "metadata": {},
   "outputs": [],
   "source": [
    "# parameters for my stacked autoencoders\n",
    "num_inputs = 30\n",
    "neurons_hid1 = 20\n",
    "neurons_hid2 = 10\n",
    "neurons_hid3 = neurons_hid1\n",
    "num_output = num_inputs"
   ]
  },
  {
   "cell_type": "code",
   "execution_count": null,
   "metadata": {},
   "outputs": [],
   "source": [
    "learning_rate = 0.001"
   ]
  },
  {
   "cell_type": "code",
   "execution_count": null,
   "metadata": {},
   "outputs": [],
   "source": [
    "activation_fun = tf.nn.sigmoid"
   ]
  },
  {
   "cell_type": "code",
   "execution_count": null,
   "metadata": {},
   "outputs": [],
   "source": [
    "#now I begin everything I need for the session of my Graph\n",
    "X = tf.placeholder(tf.float32,shape=[None,None])"
   ]
  },
  {
   "cell_type": "code",
   "execution_count": null,
   "metadata": {},
   "outputs": [],
   "source": [
    "#now here I set my weight: where I am trying to achieve the weight of the tensors\n",
    "initializer = tf.variance_scaling_initializer()"
   ]
  },
  {
   "cell_type": "code",
   "execution_count": null,
   "metadata": {},
   "outputs": [],
   "source": [
    "#here I create my weight variables\n",
    "\n",
    "w1 = tf.Variable(initializer([num_inputs,neurons_hid1]),dtype=tf.float32)\n",
    "w2 = tf.Variable(initializer([neurons_hid1,neurons_hid2]),dtype=tf.float32)\n",
    "w3 = tf.Variable(initializer([neurons_hid2,neurons_hid3]),dtype=tf.float32)\n",
    "w4 = tf.Variable(initializer([neurons_hid3,num_output]),dtype=tf.float32)\n"
   ]
  },
  {
   "cell_type": "code",
   "execution_count": null,
   "metadata": {},
   "outputs": [],
   "source": [
    "#now I create my bias\n",
    "b1 = tf.Variable(tf.zeros(neurons_hid1))\n",
    "b2 = tf.Variable(tf.zeros(neurons_hid2))\n",
    "b3 = tf.Variable(tf.zeros(neurons_hid3))\n",
    "b4 = tf.Variable(tf.zeros(num_output))\n"
   ]
  },
  {
   "cell_type": "code",
   "execution_count": null,
   "metadata": {},
   "outputs": [],
   "source": [
    "activation_func = tf.nn.sigmoid"
   ]
  },
  {
   "cell_type": "code",
   "execution_count": null,
   "metadata": {},
   "outputs": [],
   "source": [
    "#now I create my hidden layers\n",
    "hid_layer1 = activation_func(tf.matmul(X,w1)+b1)\n",
    "hid_layer2 = activation_func(tf.matmul(hid_layer1,w2)+b2) \n",
    "hid_layer3 = activation_func(tf.matmul(hid_layer2,w3)+b3) \n",
    "output_layer = activation_func(tf.matmul(hid_layer3,w4)+b4) \n"
   ]
  },
  {
   "cell_type": "code",
   "execution_count": null,
   "metadata": {},
   "outputs": [],
   "source": [
    "#now I define my cost functions(loss)\n",
    "loss = tf.reduce_mean(tf.squared_difference(output_layer, X))"
   ]
  },
  {
   "cell_type": "code",
   "execution_count": null,
   "metadata": {},
   "outputs": [],
   "source": [
    "#now I define my optimizer\n",
    "optimizer = tf.train.AdamOptimizer(learning_rate)"
   ]
  },
  {
   "cell_type": "code",
   "execution_count": null,
   "metadata": {},
   "outputs": [],
   "source": [
    "#now I define my trianing operation attempting to minimize the loss function\n",
    "train = optimizer.minimize(loss)"
   ]
  },
  {
   "cell_type": "code",
   "execution_count": null,
   "metadata": {},
   "outputs": [],
   "source": [
    "init = tf.global_variables_initializer()"
   ]
  },
  {
   "cell_type": "code",
   "execution_count": null,
   "metadata": {},
   "outputs": [],
   "source": [
    "# Training\n",
    "num_epochs = 20\n",
    "\n",
    "total_training_losses = []\n",
    "\n",
    "with tf.Session() as sess:\n",
    "    \n",
    "    sess.run(init)\n",
    "    \n",
    "    for filename in glob.glob(\"*.csv\"):\n",
    "        print(\"===== Learning file: {} =====\".format(filename))\n",
    "        \n",
    "        values = getValuesFromFile(filename)\n",
    "        jws = createJumpingWindows(values)\n",
    "        \n",
    "        training_losses_per_file = []\n",
    "    \n",
    "        for epoch in range(num_epochs):\n",
    "\n",
    "            for jw in jws.getAllWindows():\n",
    "                matrix = shapeMatrix(jw,1,30)\n",
    "                sess.run(train, feed_dict={X:matrix})\n",
    "\n",
    "            training_loss = loss.eval(feed_dict={X:matrix})\n",
    "            training_losses_per_file.append(training_loss)\n",
    "            \n",
    "            print(\"\\tEpoch: {}\\tLoss: {}\".format(epoch, training_loss))\n",
    "        \n",
    "        print(\n",
    "            \"Completed file: {}\\tTraining Losses: [{:0.3f}..{:0.3f}]\".format(\n",
    "                filename,\n",
    "                training_losses_per_file[0],\n",
    "                training_losses_per_file[-1]\n",
    "            )\n",
    "        )\n",
    "        \n",
    "        total_training_losses.append(training_losses_per_file[:])\n",
    "        \n",
    "    model_filename = \"model.ckpt\"\n",
    "    saver = tf.train.Saver()\n",
    "    saver.save(sess, model_filename)\n",
    "    print(\"===== ========== =====\\nSaved model in file: {}\".format(model_filename))\n",
    "        "
   ]
  },
  {
   "cell_type": "code",
   "execution_count": null,
   "metadata": {},
   "outputs": [],
   "source": [
    "to_plot = []\n",
    "for training_loss_per_file in total_training_losses:\n",
    "    avg_loss = sum(training_loss_per_file) / len(training_loss_per_file)\n",
    "    to_plot.append(avg_loss)\n",
    "    \n",
    "plt.plot(to_plot, 'r--')\n",
    "plt.title('Avg Loss Per Trained File')\n",
    "plt.xlabel('Number of files trained')\n",
    "plt.ylabel('Losses')"
   ]
  },
  {
   "cell_type": "code",
   "execution_count": null,
   "metadata": {},
   "outputs": [],
   "source": [
    "# Evaluating\n",
    "\n",
    "# Craete a list of random numbers representing a test\n",
    "import random\n",
    "new_test_values = []\n",
    "for x in range(360):\n",
    "    new_test_values.append(random.uniform(-100,100))\n",
    "\n",
    "jws = createJumpingWindows(new_test_values)\n",
    "\n",
    "saver = tf.train.Saver()\n",
    "\n",
    "with tf.Session() as sess:\n",
    "    saver.restore(sess, model_filename)\n",
    "    losses_per_segment = []\n",
    "    for jw in jws.getAllWindows():\n",
    "        matrix = shapeMatrix(jw,1,30)\n",
    "        segment_loss = loss.eval(feed_dict={X:matrix})\n",
    "        losses_per_segment.append(segment_loss)\n",
    "    \n",
    "    print(\n",
    "        \"\\n===== RESULT: =====\\nAvg RSME for segments in the new test: {:0.5f}\\n===== ======= =====\".format(\n",
    "            sum(losses_per_segment) / len(losses_per_segment)\n",
    "        )\n",
    "    )"
   ]
  },
  {
   "cell_type": "code",
   "execution_count": null,
   "metadata": {},
   "outputs": [],
   "source": []
  }
 ],
 "metadata": {
  "kernelspec": {
   "display_name": "Python 3",
   "language": "python",
   "name": "python3"
  },
  "language_info": {
   "codemirror_mode": {
    "name": "ipython",
    "version": 3
   },
   "file_extension": ".py",
   "mimetype": "text/x-python",
   "name": "python",
   "nbconvert_exporter": "python",
   "pygments_lexer": "ipython3",
   "version": "3.7.3"
  }
 },
 "nbformat": 4,
 "nbformat_minor": 2
}
